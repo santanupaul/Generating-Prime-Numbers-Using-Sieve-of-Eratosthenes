{
 "cells": [
  {
   "cell_type": "code",
   "execution_count": 47,
   "metadata": {},
   "outputs": [
    {
     "name": "stdout",
     "output_type": "stream",
     "text": [
      "Prime Numbers until 50: \n",
      "2 3 5 7 11 13 17 19 23 29 31 37 41 43 47 "
     ]
    }
   ],
   "source": [
    "# Generating Prime Numbers using Sieve of Eratosthenes\n",
    "\n",
    "import time\n",
    "\n",
    "t0 = time.time()\n",
    "\n",
    "def prime_gen(n):\n",
    "    \n",
    "    prime = list()\n",
    "    \n",
    "    for i in range(n):\n",
    "        prime.append(1)\n",
    "    \n",
    "    prime[0] = 0\n",
    "        \n",
    "    for i in range(2, n+1):\n",
    "        \n",
    "        j = 2\n",
    "        \n",
    "        while i*j <= n:\n",
    "            \n",
    "            prime[i*j - 1] = 0\n",
    "            j+= 1\n",
    "            \n",
    "    print('Prime Numbers until %d: ' % n)\n",
    "    \n",
    "    # Print indices of the list = 1\n",
    "    for i in range(n):\n",
    "\n",
    "        if prime[i]:\n",
    "            print(i+1, end = ' ')\n",
    "            \n",
    "    return \n",
    "\n",
    "prime_gen(50)\n",
    "\n",
    "t1 = time.time()\n",
    "\n",
    "total = t1-t0"
   ]
  }
 ],
 "metadata": {
  "kernelspec": {
   "display_name": "Python 3",
   "language": "python",
   "name": "python3"
  },
  "language_info": {
   "codemirror_mode": {
    "name": "ipython",
    "version": 3
   },
   "file_extension": ".py",
   "mimetype": "text/x-python",
   "name": "python",
   "nbconvert_exporter": "python",
   "pygments_lexer": "ipython3",
   "version": "3.6.1"
  }
 },
 "nbformat": 4,
 "nbformat_minor": 2
}
