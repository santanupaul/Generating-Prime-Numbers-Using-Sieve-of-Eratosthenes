{
 "cells": [
  {
   "cell_type": "code",
   "execution_count": 31,
   "metadata": {},
   "outputs": [
    {
     "name": "stdout",
     "output_type": "stream",
     "text": [
      "9592 Total Time:  0.08229684829711914\n"
     ]
    }
   ],
   "source": [
    "# Sieve of Eratosthenes for Prime Number Generation\n",
    "\n",
    "# We know 2 and 3 are prime numbers. So, for looping through numbers we can exclude the multiples of 2 and 3 by default\n",
    "# In order to do so we will increment our counter by 2 and 4 succesively\n",
    "\n",
    "import time\n",
    "\n",
    "t0 = time.time()\n",
    "\n",
    "def prime_gen(n):\n",
    "    \n",
    "    prime_list = [2, 3]\n",
    "    index = [1] * n\n",
    "    \n",
    "    #Create the squence excluding multiples of 2 and 3\n",
    "    seq = list()\n",
    "    dx = 2\n",
    "    x = 5\n",
    "    seq.append(x)\n",
    "\n",
    "    while (x+dx) <= n:\n",
    "        \n",
    "        x += dx\n",
    "        seq.append(x)\n",
    "        dx = abs(dx - 6)\n",
    "        \n",
    "    \n",
    "    for num in seq: #Only loop through the created sequence\n",
    "        \n",
    "        if index[num - 1]: \n",
    "            \n",
    "            prime_list.append(num)\n",
    "            \n",
    "            for mult in range(num*num, n+1, num):\n",
    "                \n",
    "                index[mult - 1] = 0\n",
    "            \n",
    "    return prime_list\n",
    "\n",
    "print(len(prime_gen(100000)), end = ' ')\n",
    "    \n",
    "t1 = time.time()\n",
    "\n",
    "total = t1-t0\n",
    "\n",
    "print('Total Time: ', total)"
   ]
  }
 ],
 "metadata": {
  "kernelspec": {
   "display_name": "Python 3",
   "language": "python",
   "name": "python3"
  },
  "language_info": {
   "codemirror_mode": {
    "name": "ipython",
    "version": 3
   },
   "file_extension": ".py",
   "mimetype": "text/x-python",
   "name": "python",
   "nbconvert_exporter": "python",
   "pygments_lexer": "ipython3",
   "version": "3.6.1"
  }
 },
 "nbformat": 4,
 "nbformat_minor": 2
}
